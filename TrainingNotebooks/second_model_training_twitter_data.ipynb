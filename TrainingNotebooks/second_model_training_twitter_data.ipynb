{
  "cells": [
    {
      "cell_type": "markdown",
      "metadata": {
        "id": "7PCEQ3gNcYQP"
      },
      "source": [
        "## DistilBERT - Multi-label Classfication"
      ]
    },
    {
      "cell_type": "markdown",
      "metadata": {
        "id": "nijnBD7AZmdS"
      },
      "source": [
        "Beginning with imports of necessary modules."
      ]
    },
    {
      "cell_type": "code",
      "execution_count": null,
      "metadata": {
        "id": "vFjYMAGjK16j"
      },
      "outputs": [],
      "source": [
        "import numpy as np\n",
        "import pandas as pd \n",
        "from sklearn.metrics import(\n",
        "    confusion_matrix, \n",
        "    accuracy_score, \n",
        "    classification_report,\n",
        "    roc_auc_score, \n",
        "    ConfusionMatrixDisplay\n",
        ")\n",
        "from sklearn.model_selection import train_test_split\n",
        "from sklearn.utils import shuffle\n",
        "import matplotlib.pyplot as plt\n",
        "import os"
      ]
    },
    {
      "cell_type": "code",
      "execution_count": null,
      "metadata": {
        "colab": {
          "base_uri": "https://localhost:8080/"
        },
        "id": "HG1JeFRrLCJS",
        "outputId": "f3771236-0bc8-4e12-8f55-ecdc4453b8ce"
      },
      "outputs": [
        {
          "name": "stdout",
          "output_type": "stream",
          "text": [
            "Looking in indexes: https://pypi.org/simple, https://us-python.pkg.dev/colab-wheels/public/simple/\n",
            "Collecting transformers\n",
            "  Downloading transformers-4.29.2-py3-none-any.whl (7.1 MB)\n",
            "\u001b[2K     \u001b[90m━━━━━━━━━━━━━━━━━━━━━━━━━━━━━━━━━━━━━━━━\u001b[0m \u001b[32m7.1/7.1 MB\u001b[0m \u001b[31m55.9 MB/s\u001b[0m eta \u001b[36m0:00:00\u001b[0m\n",
            "\u001b[?25hRequirement already satisfied: filelock in /usr/local/lib/python3.10/dist-packages (from transformers) (3.12.0)\n",
            "Collecting huggingface-hub<1.0,>=0.14.1 (from transformers)\n",
            "  Downloading huggingface_hub-0.15.1-py3-none-any.whl (236 kB)\n",
            "\u001b[2K     \u001b[90m━━━━━━━━━━━━━━━━━━━━━━━━━━━━━━━━━━━━━━\u001b[0m \u001b[32m236.8/236.8 kB\u001b[0m \u001b[31m18.0 MB/s\u001b[0m eta \u001b[36m0:00:00\u001b[0m\n",
            "\u001b[?25hRequirement already satisfied: numpy>=1.17 in /usr/local/lib/python3.10/dist-packages (from transformers) (1.22.4)\n",
            "Requirement already satisfied: packaging>=20.0 in /usr/local/lib/python3.10/dist-packages (from transformers) (23.1)\n",
            "Requirement already satisfied: pyyaml>=5.1 in /usr/local/lib/python3.10/dist-packages (from transformers) (6.0)\n",
            "Requirement already satisfied: regex!=2019.12.17 in /usr/local/lib/python3.10/dist-packages (from transformers) (2022.10.31)\n",
            "Requirement already satisfied: requests in /usr/local/lib/python3.10/dist-packages (from transformers) (2.27.1)\n",
            "Collecting tokenizers!=0.11.3,<0.14,>=0.11.1 (from transformers)\n",
            "  Downloading tokenizers-0.13.3-cp310-cp310-manylinux_2_17_x86_64.manylinux2014_x86_64.whl (7.8 MB)\n",
            "\u001b[2K     \u001b[90m━━━━━━━━━━━━━━━━━━━━━━━━━━━━━━━━━━━━━━━━\u001b[0m \u001b[32m7.8/7.8 MB\u001b[0m \u001b[31m42.5 MB/s\u001b[0m eta \u001b[36m0:00:00\u001b[0m\n",
            "\u001b[?25hRequirement already satisfied: tqdm>=4.27 in /usr/local/lib/python3.10/dist-packages (from transformers) (4.65.0)\n",
            "Requirement already satisfied: fsspec in /usr/local/lib/python3.10/dist-packages (from huggingface-hub<1.0,>=0.14.1->transformers) (2023.4.0)\n",
            "Requirement already satisfied: typing-extensions>=3.7.4.3 in /usr/local/lib/python3.10/dist-packages (from huggingface-hub<1.0,>=0.14.1->transformers) (4.5.0)\n",
            "Requirement already satisfied: urllib3<1.27,>=1.21.1 in /usr/local/lib/python3.10/dist-packages (from requests->transformers) (1.26.15)\n",
            "Requirement already satisfied: certifi>=2017.4.17 in /usr/local/lib/python3.10/dist-packages (from requests->transformers) (2022.12.7)\n",
            "Requirement already satisfied: charset-normalizer~=2.0.0 in /usr/local/lib/python3.10/dist-packages (from requests->transformers) (2.0.12)\n",
            "Requirement already satisfied: idna<4,>=2.5 in /usr/local/lib/python3.10/dist-packages (from requests->transformers) (3.4)\n",
            "Installing collected packages: tokenizers, huggingface-hub, transformers\n",
            "\u001b[31mERROR: Operation cancelled by user\u001b[0m\u001b[31m\n",
            "\u001b[0m"
          ]
        }
      ],
      "source": [
        "# uncomment when running on Google Colab:\n",
        "# !pip install transformers\n",
        "\n",
        "import time\n",
        "import sys\n",
        "import copy\n",
        "import torch \n",
        "import numpy as np\n",
        "import pyarrow as pa\n",
        "import csv\n",
        "import torch.nn as nn\n",
        "import pandas as pd\n",
        "import torch.nn.functional as F\n",
        "\n",
        "from scipy.sparse import *\n",
        "from typing import Iterable, Tuple\n",
        "from torch.optim import lr_scheduler\n",
        "from torchvision import datasets, models, transforms\n",
        "from torch.utils.data import Dataset,DataLoader\n",
        "from transformers import DistilBertConfig,DistilBertTokenizer,DistilBertModel\n",
        "\n",
        "if not sys.warnoptions:\n",
        "    import warnings\n",
        "    warnings.simplefilter(\"ignore\")"
      ]
    },
    {
      "cell_type": "markdown",
      "metadata": {
        "id": "5XHOBdlrZ-gT"
      },
      "source": [
        "For us to be able loading the weights file which consists all of the previous training details, we should import the Google Drive module. The file is there."
      ]
    },
    {
      "cell_type": "code",
      "execution_count": null,
      "metadata": {
        "colab": {
          "base_uri": "https://localhost:8080/"
        },
        "id": "KkjKrP4mZ7vt",
        "outputId": "0d649986-035e-4a7e-d881-579988743cb8"
      },
      "outputs": [
        {
          "name": "stdout",
          "output_type": "stream",
          "text": [
            "Mounted at /content/drive\n"
          ]
        }
      ],
      "source": [
        "# Load the Drive helper and mount\n",
        "from google.colab import drive\n",
        "\n",
        "# This will prompt for authorization.\n",
        "drive.mount('/content/drive')"
      ]
    },
    {
      "cell_type": "markdown",
      "metadata": {
        "id": "Pja8g3XD3zLn"
      },
      "source": [
        "Now, we will read the updated train dataset, and the original test dataset."
      ]
    },
    {
      "cell_type": "code",
      "execution_count": null,
      "metadata": {
        "colab": {
          "base_uri": "https://localhost:8080/"
        },
        "id": "8wotPUQhNEdh",
        "outputId": "7e44f866-ae02-4a41-ef3b-77476b3f88da"
      },
      "outputs": [
        {
          "name": "stderr",
          "output_type": "stream",
          "text": [
            "<ipython-input-5-50e41aa833dc>:4: FutureWarning: The error_bad_lines argument has been deprecated and will be removed in a future version. Use on_bad_lines in the future.\n",
            "\n",
            "\n",
            "  test_ds = pd.read_csv('/content/drive/MyDrive/test.csv', delimiter=',', quoting=csv.QUOTE_ALL, encoding='utf-8', error_bad_lines=False)\n"
          ]
        }
      ],
      "source": [
        "#1st training:\n",
        "train_ds = pd.read_csv('/content/drive/MyDrive/train_set.csv', sep=',', encoding= 'unicode_escape')\n",
        "train_ds = train_ds[[\"id\", \"comment_text\", \"toxic\", \"severe_toxic\", \"obscene\", \"threat\", \"insult\", \"identity_hate\"]]\n",
        "test_ds = pd.read_csv('/content/drive/MyDrive/test.csv', delimiter=',', quoting=csv.QUOTE_ALL, encoding='utf-8', error_bad_lines=False)\n",
        "test_labels_ds = pd.read_csv('/content/drive/MyDrive/test_labels.csv', delimiter=',', quoting=csv.QUOTE_ALL, encoding='utf-8')\n",
        "\n",
        "#2nd training:\n",
        "new_train_ds = pd.read_csv('/content/drive/MyDrive/dataset_042023.csv', sep=',', encoding= 'unicode_escape')\n",
        "new_train_ds = new_train_ds[[\"id\", \"content\", \"toxic\", \"severe_toxic\", \"obscene\", \"threat\", \"insult\", \"identity_hate\"]]"
      ]
    },
    {
      "cell_type": "markdown",
      "metadata": {
        "id": "dUD4gbOraDI0"
      },
      "source": [
        "Let us make some cleaning & fixes for our test dataset."
      ]
    },
    {
      "cell_type": "code",
      "execution_count": null,
      "metadata": {
        "id": "etPlUGaQObcF"
      },
      "outputs": [],
      "source": [
        "test_merged = test_ds.merge(test_labels_ds)\n",
        "test_merged.drop(test_merged[test_merged['toxic'] == -1].index, inplace = True)"
      ]
    },
    {
      "cell_type": "markdown",
      "metadata": {
        "id": "zeTzKaSNb8Og"
      },
      "source": [
        "Now, we will make our train & test variables from the datasets we got."
      ]
    },
    {
      "cell_type": "code",
      "execution_count": null,
      "metadata": {
        "id": "tmUvvpP9Oewp"
      },
      "outputs": [],
      "source": [
        "y_train = train_ds[['toxic','severe_toxic','obscene','threat','insult','identity_hate']].astype(float)\n",
        "X_train = train_ds['comment_text']\n",
        "new_y_train = new_train_ds[['toxic','severe_toxic','obscene','threat','insult','identity_hate']].astype(float)\n",
        "new_X_train = new_train_ds['content']\n",
        "X_test = test_merged['comment_text']\n",
        "y_test = test_merged[['toxic','severe_toxic','obscene','threat','insult','identity_hate']].astype(float)"
      ]
    },
    {
      "cell_type": "code",
      "execution_count": null,
      "metadata": {
        "id": "XJ-Vm415Ogx6"
      },
      "outputs": [],
      "source": [
        "X_train = X_train.values\n",
        "X_test = X_test.values\n",
        "y_train = y_train.values\n",
        "y_test = y_test.values\n",
        "\n",
        "new_X_train = new_X_train.values\n",
        "new_y_train = new_y_train.values"
      ]
    },
    {
      "cell_type": "code",
      "execution_count": null,
      "metadata": {
        "id": "BMloksig4Jr5"
      },
      "outputs": [],
      "source": [
        "second_X_train, X_test, second_y_train, y_test = train_test_split(new_X_train, new_y_train, test_size=0.25, random_state=42)"
      ]
    },
    {
      "cell_type": "code",
      "execution_count": null,
      "metadata": {
        "id": "JMJcZSkD-eUO"
      },
      "outputs": [],
      "source": [
        "# For testing only\n",
        "# print(second_X_train.shape)\n",
        "# print(second_y_train.shape)\n",
        "# print(X_test.shape)\n",
        "# print(y_test.shape)\n",
        "# print(X_train.shape)\n",
        "# print(y_train.shape)"
      ]
    },
    {
      "cell_type": "markdown",
      "metadata": {
        "id": "OA-N9K9ycyJy"
      },
      "source": [
        "We will build a function to calculate the accuracy of the model we're building."
      ]
    },
    {
      "cell_type": "code",
      "execution_count": null,
      "metadata": {
        "id": "YKwTa9tYOlee"
      },
      "outputs": [],
      "source": [
        "def accuracy_thresh(y_pred, y_true, thresh:float=0.4, sigmoid:bool=True):\n",
        "    \"Compute accuracy when `y_pred` and `y_true` are the same size.\"\n",
        "    if sigmoid: y_pred = y_pred.sigmoid()\n",
        "    return np.mean(((y_pred>thresh).float()==y_true.float()).float().cpu().numpy(), axis=1).sum()\n",
        "#Expected object of scalar type Bool but got scalar type Double for argument #2 'other'"
      ]
    },
    {
      "cell_type": "markdown",
      "metadata": {
        "id": "q65j4VlBc_X9"
      },
      "source": [
        "Now, we will define our model setting & properties with a config module we've imported initially."
      ]
    },
    {
      "cell_type": "code",
      "execution_count": null,
      "metadata": {
        "id": "ciF8NtknOnJD"
      },
      "outputs": [],
      "source": [
        "config = DistilBertConfig(vocab_size_or_config_json_file=32000, hidden_size=768,dropout=0.1,num_labels=6,\n",
        "        num_hidden_layers=12, num_attention_heads=12, intermediate_size=3072)"
      ]
    },
    {
      "cell_type": "markdown",
      "metadata": {
        "id": "iWmpdPItdQrC"
      },
      "source": [
        "Next step will be to define the class of our model, based on \"DistilBERT\"."
      ]
    },
    {
      "cell_type": "code",
      "execution_count": null,
      "metadata": {
        "id": "ouP0kFGLO0d7"
      },
      "outputs": [],
      "source": [
        "class DistilBertForSequenceClassification(nn.Module):\n",
        "    def __init__(self, config):\n",
        "        super().__init__()\n",
        "        self.num_labels = config.num_labels\n",
        "        self.distilbert = DistilBertModel.from_pretrained('distilbert-base-uncased')\n",
        "        self.pre_classifier = nn.Linear(config.hidden_size, config.hidden_size)\n",
        "        self.classifier = nn.Linear(config.hidden_size, config.num_labels)\n",
        "        self.dropout = nn.Dropout(config.seq_classif_dropout)\n",
        "        nn.init.xavier_normal_(self.classifier.weight)\n",
        "\n",
        "    def forward(self, input_ids=None, attention_mask=None, head_mask=None, labels=None):\n",
        "        distilbert_output = self.distilbert(\n",
        "                                            input_ids=input_ids,\n",
        "                                            attention_mask=attention_mask,\n",
        "                                            head_mask=head_mask\n",
        "                                            )\n",
        "        hidden_state = distilbert_output[0]                    \n",
        "        pooled_output = hidden_state[:, 0]                   \n",
        "        pooled_output = self.pre_classifier(pooled_output)   \n",
        "        pooled_output = nn.ReLU()(pooled_output)             \n",
        "        pooled_output = self.dropout(pooled_output)        \n",
        "        logits = self.classifier(pooled_output) \n",
        "        return logits"
      ]
    },
    {
      "cell_type": "markdown",
      "metadata": {
        "id": "cp86hmaUgxuN"
      },
      "source": [
        "We would like to define the maximum length of a sequence, and a tokenizer."
      ]
    },
    {
      "cell_type": "code",
      "execution_count": null,
      "metadata": {
        "colab": {
          "base_uri": "https://localhost:8080/",
          "height": 113,
          "referenced_widgets": [
            "baff28816bb6485f9687a5a1a1f64db3",
            "5e3cf43c44d24ead84b9a34743f02753",
            "05d6e7c5899942f395009593ea4db381",
            "00cf6b473f3345b1b238d2c74dd82964",
            "462d4b90ded84eb693f33fa92c0a3e21",
            "699fb83a5f9444b9876121d21273123d",
            "183427f4f5544c7a9ec60fc71758f509",
            "103f6afaf76347338f6dd2eafa4b0a20",
            "2ea4d5e461ae49ce88510364fcc8671d",
            "0a438a3f4d624825a75d213a405dedb8",
            "baf0f97ea8e34c14a1970eb7584da9bb",
            "f735a31ea0324b39bab83dcaaa74f930",
            "e28a9c2bd6f54e1bb68e29fe03f4e56a",
            "72e82dda7eaf40fbad75f28b88152b69",
            "67dbf387b5d34ac28e7de1abac0a9e01",
            "0d96a3e1d2584ba78984ac18b01fbd55",
            "27dd5bbc5c0343efb52ee5f4eac1b608",
            "5341a79775ca49208d2a7dc3068105bc",
            "3917aba5c2ad4af79d66df60fcdffbad",
            "341868eb7a1141a09222d312c87e0f0e",
            "873b0056367c4fe9be0248069a117d5d",
            "8435030aac224972aedac93ac0c612bd",
            "19ad5c3c8b69437f964671eedc26c766",
            "2fbec96b327249df969977e8c2b89a6a",
            "259d525b2f9e42759c1ab200c7936e15",
            "2e3072104725469e8b4d00eef49a7e08",
            "c4e59594f9eb488c9639b1a266035100",
            "ec93f8024c034a32a652d8e0e9b066f9",
            "8546c4a19b1147b8a01c4fb35acbb751",
            "275f83895d644a27a63d9fe71bf49a94",
            "ff4f2cbe3691453ca88fe9e132d817f6",
            "b07c19ee3531482791d2b11563f11399",
            "a4eb1058929349808ad3621bab98afb3"
          ]
        },
        "id": "6lZuMIRZgVDP",
        "outputId": "939422e9-cb0d-4220-b453-8d1269486df9"
      },
      "outputs": [
        {
          "data": {
            "application/vnd.jupyter.widget-view+json": {
              "model_id": "baff28816bb6485f9687a5a1a1f64db3",
              "version_major": 2,
              "version_minor": 0
            },
            "text/plain": [
              "Downloading (…)solve/main/vocab.txt:   0%|          | 0.00/232k [00:00<?, ?B/s]"
            ]
          },
          "metadata": {},
          "output_type": "display_data"
        },
        {
          "data": {
            "application/vnd.jupyter.widget-view+json": {
              "model_id": "f735a31ea0324b39bab83dcaaa74f930",
              "version_major": 2,
              "version_minor": 0
            },
            "text/plain": [
              "Downloading (…)okenizer_config.json:   0%|          | 0.00/28.0 [00:00<?, ?B/s]"
            ]
          },
          "metadata": {},
          "output_type": "display_data"
        },
        {
          "data": {
            "application/vnd.jupyter.widget-view+json": {
              "model_id": "19ad5c3c8b69437f964671eedc26c766",
              "version_major": 2,
              "version_minor": 0
            },
            "text/plain": [
              "Downloading (…)lve/main/config.json:   0%|          | 0.00/483 [00:00<?, ?B/s]"
            ]
          },
          "metadata": {},
          "output_type": "display_data"
        }
      ],
      "source": [
        "max_seq_length = 256\n",
        "tokenizer = DistilBertTokenizer.from_pretrained('distilbert-base-uncased')"
      ]
    },
    {
      "cell_type": "markdown",
      "metadata": {
        "id": "Oon-7W8Yg8am"
      },
      "source": [
        "Now, we want to build a class which take care about the creation of the whole Dataset."
      ]
    },
    {
      "cell_type": "code",
      "execution_count": null,
      "metadata": {
        "id": "kRwzjN5fO20Y"
      },
      "outputs": [],
      "source": [
        "class TextDataset(Dataset):\n",
        "    def __init__(self,x,y, transform=None):\n",
        "        self.x = x\n",
        "        self.y = y\n",
        "        self.transform = transform\n",
        "        \n",
        "    def __getitem__(self,index):\n",
        "        tokenized_comment = tokenizer.tokenize(self.x[index])\n",
        "        if len(tokenized_comment) > max_seq_length:\n",
        "            tokenized_comment = tokenized_comment[:max_seq_length]\n",
        "\n",
        "        ids_review  = tokenizer.convert_tokens_to_ids(tokenized_comment)\n",
        "        padding = [0] * (max_seq_length - len(ids_review))    \n",
        "        ids_review += padding        \n",
        "\n",
        "        assert len(ids_review) == max_seq_length\n",
        "        ids_review = torch.tensor(ids_review)\n",
        "        hcc = self.y[index] # toxic comment        \n",
        "        list_of_labels = [torch.from_numpy(hcc)]\n",
        "        \n",
        "        return ids_review, list_of_labels[0]\n",
        "    \n",
        "    def __len__(self):\n",
        "        return len(self.x)"
      ]
    },
    {
      "cell_type": "markdown",
      "metadata": {
        "id": "XGKI1nXBYOdD"
      },
      "source": [
        "Now, we woule like to test random index (in our case, we've choose index 6) and see the output."
      ]
    },
    {
      "cell_type": "code",
      "execution_count": null,
      "metadata": {
        "colab": {
          "base_uri": "https://localhost:8080/"
        },
        "id": "9_qqHkQoO5U1",
        "outputId": "3a06f8f1-04bf-4a13-8608-561b5be2f016"
      },
      "outputs": [
        {
          "data": {
            "text/plain": [
              "tensor([0., 0., 0., 0., 0., 0.], dtype=torch.float64)"
            ]
          },
          "execution_count": 16,
          "metadata": {},
          "output_type": "execute_result"
        }
      ],
      "source": [
        "TextDataset(second_X_train, second_y_train).__getitem__(6)[1]"
      ]
    },
    {
      "cell_type": "markdown",
      "source": [
        "We would like to define a dataloader method and some additional methods which related, like shuffle of the data in our dataset."
      ],
      "metadata": {
        "id": "AfXt4A-9Xsfb"
      }
    },
    {
      "cell_type": "code",
      "execution_count": null,
      "metadata": {
        "id": "Ki2MRzNFO8nM"
      },
      "outputs": [],
      "source": [
        "def safe_shuffle(X: np.ndarray, y: np.ndarray) -> np.ndarray:\n",
        "  xy_shuffled = shuffle(list(zip(X, y)))\n",
        "  X_res = []\n",
        "  y_res = []\n",
        "  for xy in xy_shuffled:\n",
        "    X_res.append(xy[0])\n",
        "    y_res.append(xy[-1])\n",
        "  return np.array(X_res), np.array(y_res)\n",
        "\n",
        "def get_dataloaders_dict_shuffled(X_train: np.ndarray,\n",
        "                                  X_test: np.ndarray, \n",
        "                                  y_train: np.ndarray, \n",
        "                                  y_test: np.ndarray,  \n",
        "                                  batch_size: int = 32) -> Tuple[dict]:\n",
        "  X_train, y_train = safe_shuffle(X_train, y_train)\n",
        "  training_dataset = TextDataset(X_train, y_train)\n",
        "  test_dataset = TextDataset(X_test,y_test)\n",
        "\n",
        "  dataloaders_dict = {\n",
        "    'train': torch.utils.data.DataLoader(training_dataset, batch_size=batch_size, shuffle=False),\n",
        "    'val': torch.utils.data.DataLoader(test_dataset, batch_size=batch_size, shuffle=False)\n",
        "  }\n",
        "  dataset_sizes = {\n",
        "    'train': len(X_train),\n",
        "    'val': len(X_test)\n",
        "  }\n",
        "  return dataloaders_dict, dataset_sizes"
      ]
    },
    {
      "cell_type": "markdown",
      "metadata": {
        "id": "WcHY1gfjhIQ2"
      },
      "source": [
        "Now, after we've defined all the properties and objects of our desired model, we can define all the necessary variables, and load the model with it's current weights."
      ]
    },
    {
      "cell_type": "markdown",
      "metadata": {
        "id": "dmzisa9ehe0w"
      },
      "source": [
        "Let us define our model and initial it."
      ]
    },
    {
      "cell_type": "code",
      "execution_count": null,
      "metadata": {
        "colab": {
          "base_uri": "https://localhost:8080/",
          "height": 138,
          "referenced_widgets": [
            "4a152f5cc15a4981b1ca58da00c132ea",
            "51ef4986c58041309f0bb1ea40740f75",
            "460985472b0a412289a5ac02df82df73",
            "619e55a214264b1da70133d122741a28",
            "c9849e3c02174a7783dd30291bfa2cd1",
            "b8d5f7636e8e445a87f2a1e4e512a393",
            "781cbd2c453e45b1859a3d9d1e369fe6",
            "d69c62573e844bbe951d63d8fc14fbe8",
            "907da7c06c5e43fd98015b13ab55bfb9",
            "03962c30db224ea0b8d64944e94fea18",
            "d25ac542cc3d4d38bd692f79a9e6662c"
          ]
        },
        "id": "wqvYAoj7gtRW",
        "outputId": "4d3566d9-5831-45d7-874f-86e14954dd24"
      },
      "outputs": [
        {
          "data": {
            "application/vnd.jupyter.widget-view+json": {
              "model_id": "4a152f5cc15a4981b1ca58da00c132ea",
              "version_major": 2,
              "version_minor": 0
            },
            "text/plain": [
              "Downloading pytorch_model.bin:   0%|          | 0.00/268M [00:00<?, ?B/s]"
            ]
          },
          "metadata": {},
          "output_type": "display_data"
        },
        {
          "name": "stderr",
          "output_type": "stream",
          "text": [
            "Some weights of the model checkpoint at distilbert-base-uncased were not used when initializing DistilBertModel: ['vocab_transform.bias', 'vocab_layer_norm.weight', 'vocab_layer_norm.bias', 'vocab_transform.weight', 'vocab_projector.weight', 'vocab_projector.bias']\n",
            "- This IS expected if you are initializing DistilBertModel from the checkpoint of a model trained on another task or with another architecture (e.g. initializing a BertForSequenceClassification model from a BertForPreTraining model).\n",
            "- This IS NOT expected if you are initializing DistilBertModel from the checkpoint of a model that you expect to be exactly identical (initializing a BertForSequenceClassification model from a BertForSequenceClassification model).\n"
          ]
        },
        {
          "name": "stdout",
          "output_type": "stream",
          "text": [
            "cuda:0\n"
          ]
        }
      ],
      "source": [
        "device = torch.device(\"cuda:0\" if torch.cuda.is_available() else \"cpu\")\n",
        "model = DistilBertForSequenceClassification(config)\n",
        "model.to(device)\n",
        "# 1st training:\n",
        "#model.load_state_dict(torch.load('/content/drive/MyDrive/distilbert_model_weights.pth'))\n",
        "# 2nd training:\n",
        "model.load_state_dict(torch.load('/content/drive/MyDrive/distilbert_model_weights_ver4.pth'))\n",
        "\n",
        "print(device)"
      ]
    },
    {
      "cell_type": "markdown",
      "metadata": {
        "id": "etVfcfE6iA5H"
      },
      "source": [
        "For us to train our model, we should build a comfortable training function which will consist all the methods the model needs for optimal training."
      ]
    },
    {
      "cell_type": "code",
      "execution_count": null,
      "metadata": {
        "id": "hRDeiMNmiw9f"
      },
      "outputs": [],
      "source": [
        "# Test\n",
        "dataloaders_dict, dataset_sizes = get_dataloaders_dict_shuffled(\n",
        "    second_X_train, X_test, second_y_train, y_test\n",
        ")"
      ]
    },
    {
      "cell_type": "code",
      "execution_count": null,
      "metadata": {
        "colab": {
          "base_uri": "https://localhost:8080/"
        },
        "id": "i-NV2jKhPAPq",
        "outputId": "fdf420b3-2590-4504-ddbe-77340b114d39"
      },
      "outputs": [
        {
          "name": "stdout",
          "output_type": "stream",
          "text": [
            "done\n"
          ]
        }
      ],
      "source": [
        "def train_model(model, criterion, optimizer, scheduler, num_epochs=4):\n",
        "    model.train()\n",
        "    since = time.time()\n",
        "    print('starting')\n",
        "    best_model_wts = copy.deepcopy(model.state_dict())\n",
        "    best_loss = 100\n",
        "    \n",
        "    train_total_loss = []\n",
        "    train_micro_roc_auc_acc = []\n",
        "    test_total_loss = []\n",
        "    test_micro_roc_auc_acc = []\n",
        "\n",
        "    for epoch in range(num_epochs):\n",
        "        print('Epoch {}/{}'.format(epoch+1, num_epochs))\n",
        "        print('-' * 10)\n",
        "\n",
        "        dataloaders_dict, dataset_sizes = get_dataloaders_dict_shuffled(\n",
        "            X_train, X_test, y_train, y_test\n",
        "        )\n",
        "\n",
        "        # Each epoch has a training and validation phase\n",
        "        for phase in ['train', 'val']:\n",
        "            if phase == 'train':\n",
        "                scheduler.step()\n",
        "                model.train()  # Set model to training mode\n",
        "            else:\n",
        "                model.eval()   # Set model to evaluate mode\n",
        "\n",
        "            running_loss = 0.0\n",
        "            beta_score_accuracy = 0.0            \n",
        "            micro_roc_auc_acc = 0.0\n",
        "                        \n",
        "            # Iterate over data.\n",
        "            for inputs, hcc in dataloaders_dict[phase]:    \n",
        "                inputs = inputs.to(device) \n",
        "                hcc = hcc.to(device)\n",
        "                optimizer.zero_grad()\n",
        "\n",
        "                # Forward\n",
        "                # Track history if only in train\n",
        "                with torch.set_grad_enabled(phase == 'train'):\n",
        "                    outputs = model(inputs)\n",
        "                    loss = criterion(outputs,hcc.float())\n",
        "                    if phase == 'train':\n",
        "                        loss.backward()\n",
        "                        optimizer.step()\n",
        "\n",
        "                running_loss += loss.item() * inputs.size(0)\n",
        "                micro_roc_auc_acc +=  accuracy_thresh(outputs.view(-1,6),hcc.view(-1,6))\n",
        "\n",
        "            epoch_loss = running_loss / dataset_sizes[phase]            \n",
        "            epoch_micro_roc_acc = micro_roc_auc_acc / dataset_sizes[phase]\n",
        "\n",
        "            print('{} total loss: {:.4f} '.format(phase,epoch_loss ))\n",
        "            print('{} micro_roc_auc_acc: {:.4f}'.format( phase, epoch_micro_roc_acc))\n",
        "            if phase == 'train':\n",
        "              train_total_loss.append(epoch_loss)\n",
        "              train_micro_roc_auc_acc.append(epoch_micro_roc_acc)\n",
        "            else:\n",
        "              test_total_loss.append(epoch_loss)\n",
        "              test_micro_roc_auc_acc.append(epoch_micro_roc_acc)\n",
        "\n",
        "            if phase == 'val' and epoch_loss < best_loss:\n",
        "                print('saving with loss of {}'.format(epoch_loss),\n",
        "                      'improved over previous {}'.format(best_loss))\n",
        "                best_loss = epoch_loss\n",
        "                best_model_wts = copy.deepcopy(model.state_dict())\n",
        "                torch.save(model.state_dict(), 'distilbert_model_weights_ver2.pth')\n",
        "         \n",
        "        print()\n",
        "    time_elapsed = time.time() - since\n",
        "    print('Training complete in {:.0f}m {:.0f}s'.format(\n",
        "        time_elapsed // 60, time_elapsed % 60))\n",
        "    print('Best val Acc: {:4f}'.format(float(best_loss)))\n",
        "\n",
        "    # Load best model weights\n",
        "    model.load_state_dict(best_model_wts)\n",
        "    return model, train_total_loss, train_micro_roc_auc_acc, test_total_loss, test_micro_roc_auc_acc, best_loss\n",
        "print('done')"
      ]
    },
    {
      "cell_type": "markdown",
      "metadata": {
        "id": "NmRqBfhajFTF"
      },
      "source": [
        "Before we're starting our training, we'll define some last parameters for the sake of an optimal training. "
      ]
    },
    {
      "cell_type": "code",
      "execution_count": null,
      "metadata": {
        "id": "uSG4Qh2CPEUr"
      },
      "outputs": [],
      "source": [
        "lrlast = .001\n",
        "lrmain = 3e-5\n",
        "optim1 = torch.optim.Adam(model.parameters(),lrmain)\n",
        "optimizer_ft = optim1\n",
        "criterion = nn.BCEWithLogitsLoss()\n",
        "\n",
        "# Decay LR by a factor of 0.1 every 7 epochs\n",
        "exp_lr_scheduler = lr_scheduler.StepLR(optimizer_ft, step_size=3, gamma=0.1)\n",
        "NUM_EPOCHS = 6"
      ]
    },
    {
      "cell_type": "markdown",
      "metadata": {
        "id": "5d9aKIFYjeye"
      },
      "source": [
        "Let us start the training of the model we've built."
      ]
    },
    {
      "cell_type": "code",
      "execution_count": null,
      "metadata": {
        "colab": {
          "base_uri": "https://localhost:8080/"
        },
        "id": "1xDdg5OhPOK_",
        "outputId": "b0f7db64-e7a2-4321-9eac-411752001a62"
      },
      "outputs": [
        {
          "name": "stdout",
          "output_type": "stream",
          "text": [
            "starting\n",
            "Epoch 1/6\n",
            "----------\n"
          ]
        },
        {
          "name": "stderr",
          "output_type": "stream",
          "text": [
            "/usr/local/lib/python3.10/dist-packages/torch/optim/lr_scheduler.py:139: UserWarning: Detected call of `lr_scheduler.step()` before `optimizer.step()`. In PyTorch 1.1.0 and later, you should call them in the opposite order: `optimizer.step()` before `lr_scheduler.step()`.  Failure to do this will result in PyTorch skipping the first value of the learning rate schedule. See more details at https://pytorch.org/docs/stable/optim.html#how-to-adjust-learning-rate\n",
            "  warnings.warn(\"Detected call of `lr_scheduler.step()` before `optimizer.step()`. \"\n"
          ]
        },
        {
          "name": "stdout",
          "output_type": "stream",
          "text": [
            "train total loss: 0.2186 \n",
            "train micro_roc_auc_acc: 0.9073\n",
            "val total loss: 0.1971 \n",
            "val micro_roc_auc_acc: 0.9162\n",
            "saving with loss of 0.19708213202148 improved over previous 100\n",
            "\n",
            "Epoch 2/6\n",
            "----------\n",
            "train total loss: 0.1657 \n",
            "train micro_roc_auc_acc: 0.9298\n",
            "val total loss: 0.1906 \n",
            "val micro_roc_auc_acc: 0.9188\n",
            "saving with loss of 0.19063341315184162 improved over previous 0.19708213202148\n",
            "\n",
            "Epoch 3/6\n",
            "----------\n",
            "train total loss: 0.1099 \n",
            "train micro_roc_auc_acc: 0.9557\n",
            "val total loss: 0.2056 \n",
            "val micro_roc_auc_acc: 0.9199\n",
            "\n",
            "Epoch 4/6\n",
            "----------\n",
            "train total loss: 0.0986 \n",
            "train micro_roc_auc_acc: 0.9598\n",
            "val total loss: 0.2091 \n",
            "val micro_roc_auc_acc: 0.9218\n",
            "\n",
            "Epoch 5/6\n",
            "----------\n",
            "train total loss: 0.0907 \n",
            "train micro_roc_auc_acc: 0.9638\n",
            "val total loss: 0.2183 \n",
            "val micro_roc_auc_acc: 0.9230\n",
            "\n",
            "Epoch 6/6\n",
            "----------\n",
            "train total loss: 0.0841 \n",
            "train micro_roc_auc_acc: 0.9665\n",
            "val total loss: 0.2172 \n",
            "val micro_roc_auc_acc: 0.9230\n",
            "\n",
            "Training complete in 45m 31s\n",
            "Best val Acc: 0.190633\n"
          ]
        }
      ],
      "source": [
        "model_ft1, train_total_loss, train_micro_roc_auc_acc, test_total_loss, test_micro_roc_auc_acc, best_loss = train_model(model, criterion, optimizer_ft, exp_lr_scheduler, num_epochs=NUM_EPOCHS)"
      ]
    },
    {
      "cell_type": "markdown",
      "metadata": {
        "id": "Mpsby4te0K8x"
      },
      "source": [
        "After the model has finished its training, we want to test the results. We would like to make some predictions and see how the model acts."
      ]
    },
    {
      "cell_type": "markdown",
      "metadata": {
        "id": "BDEs0v8MYkrq"
      },
      "source": [
        "First, we would like to prepare our test dataset to fill in the model properly."
      ]
    },
    {
      "cell_type": "code",
      "execution_count": null,
      "metadata": {
        "id": "x07GcmJJydpC"
      },
      "outputs": [],
      "source": [
        "test_dataset = TextDataset(X_test,y_test)\n",
        "prediction_dataloader = torch.utils.data.DataLoader(test_dataset, batch_size=1, shuffle=False)"
      ]
    },
    {
      "cell_type": "markdown",
      "metadata": {
        "id": "uVFE6BL-Y2AU"
      },
      "source": [
        "We will define a function which will do all the predict method."
      ]
    },
    {
      "cell_type": "code",
      "execution_count": null,
      "metadata": {
        "id": "iojkogrhYjG-"
      },
      "outputs": [],
      "source": [
        "def preds(model,test_loader):\n",
        "    predictions = []\n",
        "    for inputs, sentiment in test_loader:\n",
        "        inputs = inputs.to(device) \n",
        "        sentiment = sentiment.to(device)\n",
        "        with torch.no_grad():\n",
        "            outputs = model(inputs)\n",
        "            outputs = torch.sigmoid(outputs)\n",
        "            predictions.append(outputs.cpu().detach().numpy().tolist())\n",
        "    return predictions"
      ]
    },
    {
      "cell_type": "markdown",
      "metadata": {
        "id": "nE7vGQrZY6vZ"
      },
      "source": [
        "Now, we can use our model on the test set and see if its good."
      ]
    },
    {
      "cell_type": "markdown",
      "metadata": {
        "id": "6B1VhWVmMqRB"
      },
      "source": [
        "At that time, when we got exactly the test data set we want, we will adjust it to the methods of our model and test it."
      ]
    },
    {
      "cell_type": "code",
      "execution_count": null,
      "metadata": {
        "id": "Q38mSJVZyC1Z"
      },
      "outputs": [],
      "source": [
        "predictions = preds(model=model,test_loader=prediction_dataloader)\n",
        "predictions = np.array(predictions)[:,0]\n",
        "y_label = np.round(predictions)"
      ]
    },
    {
      "cell_type": "code",
      "execution_count": null,
      "metadata": {
        "colab": {
          "base_uri": "https://localhost:8080/"
        },
        "id": "6X0PRG2PeinZ",
        "outputId": "3e3ffe2a-3cac-4001-e7d1-a269e3fa98db"
      },
      "outputs": [
        {
          "data": {
            "text/plain": [
              "(5992, 6)"
            ]
          },
          "execution_count": 26,
          "metadata": {},
          "output_type": "execute_result"
        }
      ],
      "source": [
        "final_y_pred = np.array(y_label)\n",
        "final_y_pred.shape"
      ]
    },
    {
      "cell_type": "markdown",
      "metadata": {
        "id": "E601wFyjh4t1"
      },
      "source": [
        "Now, we would like to check the accuracy of the model we've built."
      ]
    },
    {
      "cell_type": "code",
      "execution_count": null,
      "metadata": {
        "colab": {
          "base_uri": "https://localhost:8080/"
        },
        "id": "woPwr6Bir3Jx",
        "outputId": "1b9dda80-40e9-4740-9bc2-ea21ada751d1"
      },
      "outputs": [
        {
          "name": "stdout",
          "output_type": "stream",
          "text": [
            "\n",
            "The accuracy of the model:\n",
            "0.9302\n"
          ]
        }
      ],
      "source": [
        "print(\"\\nThe accuracy of the model:\")\n",
        "acc_model = np.round(accuracy_score(np.argmax(y_test, axis=1), np.argmax(final_y_pred, axis=1)), 4)\n",
        "print(acc_model)\n",
        "y_test_conf_matr = np.argmax(y_test, axis=1)\n",
        "y_label_conf_matr = np.argmax(final_y_pred, axis=1)"
      ]
    },
    {
      "cell_type": "markdown",
      "metadata": {
        "id": "Km0CzSBch9V4"
      },
      "source": [
        "For be more specified with the model's evaluation, let us show a Confusion Matrix for each label"
      ]
    },
    {
      "cell_type": "code",
      "execution_count": null,
      "metadata": {
        "colab": {
          "base_uri": "https://localhost:8080/",
          "height": 857
        },
        "id": "wsclT9hLVm-U",
        "outputId": "a2f949e9-85dd-44fe-9cb8-bffc271b3b7c"
      },
      "outputs": [
        {
          "data": {
            "image/png": "[encoded data removed]",
            "text/plain": [
              "<Figure size 1500x1200 with 7 Axes>"
            ]
          },
          "metadata": {},
          "output_type": "display_data"
        }
      ],
      "source": [
        "f, axes = plt.subplots(2, 3, figsize=(15, 12))\n",
        "axes = axes.ravel()\n",
        "labels = {\"toxic\": 0, \"severe_toxic\": 1, \"obscene\": 2, \"threat\": 3, \"insult\": 4, \"identity_hate\": 5}\n",
        "\n",
        "for label in labels:\n",
        "    disp = ConfusionMatrixDisplay(confusion_matrix(y_test[:, labels[label]],\n",
        "                                                   final_y_pred[:, labels[label]]))\n",
        "    disp.plot(ax=axes[labels[label]], values_format='.4g')\n",
        "    disp.ax_.set_title(f'{label}')\n",
        "    if labels[label]<10:\n",
        "        disp.ax_.set_xlabel('Predicted')\n",
        "        disp.ax_.set_ylabel('Actuals')\n",
        "    disp.im_.colorbar.remove()\n",
        "\n",
        "plt.subplots_adjust(wspace=0.15, hspace=0.15)\n",
        "f.colorbar(disp.im_, ax=axes)\n",
        "plt.show()"
      ]
    },
    {
      "cell_type": "markdown",
      "metadata": {
        "id": "32XOJonfiEO_"
      },
      "source": [
        "In addition to the above, let us plot a Classification Report table"
      ]
    },
    {
      "cell_type": "code",
      "execution_count": null,
      "metadata": {
        "colab": {
          "base_uri": "https://localhost:8080/"
        },
        "id": "zDY9m_zAWQae",
        "outputId": "3dd5c672-c465-43ec-cc78-f364295d17b1"
      },
      "outputs": [
        {
          "name": "stdout",
          "output_type": "stream",
          "text": [
            "               precision    recall  f1-score   support\n",
            "\n",
            "        toxic       0.86      0.88      0.87      2575\n",
            " severe_toxic       0.75      0.84      0.79      1301\n",
            "      obscene       0.91      0.92      0.91      1957\n",
            "       threat       0.61      0.46      0.52       337\n",
            "       insult       0.79      0.76      0.77      1706\n",
            "identity_hate       0.64      0.49      0.55       202\n",
            "\n",
            "    micro avg       0.83      0.83      0.83      8078\n",
            "    macro avg       0.76      0.72      0.74      8078\n",
            " weighted avg       0.82      0.83      0.83      8078\n",
            "  samples avg       0.38      0.39      0.37      8078\n",
            "\n"
          ]
        },
        {
          "name": "stderr",
          "output_type": "stream",
          "text": [
            "/usr/local/lib/python3.10/dist-packages/sklearn/metrics/_classification.py:1344: UndefinedMetricWarning: Precision and F-score are ill-defined and being set to 0.0 in samples with no predicted labels. Use `zero_division` parameter to control this behavior.\n",
            "  _warn_prf(average, modifier, msg_start, len(result))\n",
            "/usr/local/lib/python3.10/dist-packages/sklearn/metrics/_classification.py:1344: UndefinedMetricWarning: Recall and F-score are ill-defined and being set to 0.0 in samples with no true labels. Use `zero_division` parameter to control this behavior.\n",
            "  _warn_prf(average, modifier, msg_start, len(result))\n"
          ]
        }
      ],
      "source": [
        "target_names = [\"toxic\", \"severe_toxic\", \"obscene\", \"threat\", \"insult\", \"identity_hate\"]\n",
        "print(classification_report(y_test, final_y_pred, target_names=target_names))"
      ]
    },
    {
      "cell_type": "markdown",
      "metadata": {
        "id": "NLKf3kaLiJS9"
      },
      "source": [
        "We will show a plot of ROC-AUC Accuracy as well."
      ]
    },
    {
      "cell_type": "code",
      "execution_count": null,
      "metadata": {
        "colab": {
          "base_uri": "https://localhost:8080/",
          "height": 449
        },
        "id": "8UjNNjAnLF33",
        "outputId": "b396adee-b329-41b4-c1ef-aa46847a87a4"
      },
      "outputs": [
        {
          "data": {
            "image/png": "[encoded data removed]",
            "text/plain": [
              "<Figure size 640x480 with 1 Axes>"
            ]
          },
          "metadata": {},
          "output_type": "display_data"
        }
      ],
      "source": [
        "epoch_count = range(1, len(train_micro_roc_auc_acc)+1)\n",
        "\n",
        "# Visualize ROC-AUC Accuracy history\n",
        "plt.plot(epoch_count, train_micro_roc_auc_acc, 'r--')\n",
        "plt.plot(epoch_count, test_micro_roc_auc_acc, 'b-')\n",
        "plt.legend(['Training ROC-AUC Accuracy', 'Test ROC-AUC Accuracy'])\n",
        "plt.xlabel('Epoch')\n",
        "plt.ylabel('ROC-AUC Accuracy')\n",
        "plt.show()"
      ]
    }
  ],
  "metadata": {
    "accelerator": "GPU",
    "colab": {
      "gpuType": "T4",
      "provenance": []
    },
    "kernelspec": {
      "display_name": "Python 3",
      "name": "python3"
    },
    "language_info": {
      "name": "python"
    },
    "widgets": {
      "application/vnd.jupyter.widget-state+json": {
        "00cf6b473f3345b1b238d2c74dd82964": {
          "model_module": "@jupyter-widgets/controls",
          "model_module_version": "1.5.0",
          "model_name": "HTMLModel",
          "state": {
            "_dom_classes": [],
            "_model_module": "@jupyter-widgets/controls",
            "_model_module_version": "1.5.0",
            "_model_name": "HTMLModel",
            "_view_count": null,
            "_view_module": "@jupyter-widgets/controls",
            "_view_module_version": "1.5.0",
            "_view_name": "HTMLView",
            "description": "",
            "description_tooltip": null,
            "layout": "IPY_MODEL_0a438a3f4d624825a75d213a405dedb8",
            "placeholder": "​",
            "style": "IPY_MODEL_baf0f97ea8e34c14a1970eb7584da9bb",
            "value": " 232k/232k [00:00&lt;00:00, 2.99MB/s]"
          }
        },
        "03962c30db224ea0b8d64944e94fea18": {
          "model_module": "@jupyter-widgets/base",
          "model_module_version": "1.2.0",
          "model_name": "LayoutModel",
          "state": {
            "_model_module": "@jupyter-widgets/base",
            "_model_module_version": "1.2.0",
            "_model_name": "LayoutModel",
            "_view_count": null,
            "_view_module": "@jupyter-widgets/base",
            "_view_module_version": "1.2.0",
            "_view_name": "LayoutView",
            "align_content": null,
            "align_items": null,
            "align_self": null,
            "border": null,
            "bottom": null,
            "display": null,
            "flex": null,
            "flex_flow": null,
            "grid_area": null,
            "grid_auto_columns": null,
            "grid_auto_flow": null,
            "grid_auto_rows": null,
            "grid_column": null,
            "grid_gap": null,
            "grid_row": null,
            "grid_template_areas": null,
            "grid_template_columns": null,
            "grid_template_rows": null,
            "height": null,
            "justify_content": null,
            "justify_items": null,
            "left": null,
            "margin": null,
            "max_height": null,
            "max_width": null,
            "min_height": null,
            "min_width": null,
            "object_fit": null,
            "object_position": null,
            "order": null,
            "overflow": null,
            "overflow_x": null,
            "overflow_y": null,
            "padding": null,
            "right": null,
            "top": null,
            "visibility": null,
            "width": null
          }
        },
        "05d6e7c5899942f395009593ea4db381": {
          "model_module": "@jupyter-widgets/controls",
          "model_module_version": "1.5.0",
          "model_name": "FloatProgressModel",
          "state": {
            "_dom_classes": [],
            "_model_module": "@jupyter-widgets/controls",
            "_model_module_version": "1.5.0",
            "_model_name": "FloatProgressModel",
            "_view_count": null,
            "_view_module": "@jupyter-widgets/controls",
            "_view_module_version": "1.5.0",
            "_view_name": "ProgressView",
            "bar_style": "success",
            "description": "",
            "description_tooltip": null,
            "layout": "IPY_MODEL_103f6afaf76347338f6dd2eafa4b0a20",
            "max": 231508,
            "min": 0,
            "orientation": "horizontal",
            "style": "IPY_MODEL_2ea4d5e461ae49ce88510364fcc8671d",
            "value": 231508
          }
        },
        "0a438a3f4d624825a75d213a405dedb8": {
          "model_module": "@jupyter-widgets/base",
          "model_module_version": "1.2.0",
          "model_name": "LayoutModel",
          "state": {
            "_model_module": "@jupyter-widgets/base",
            "_model_module_version": "1.2.0",
            "_model_name": "LayoutModel",
            "_view_count": null,
            "_view_module": "@jupyter-widgets/base",
            "_view_module_version": "1.2.0",
            "_view_name": "LayoutView",
            "align_content": null,
            "align_items": null,
            "align_self": null,
            "border": null,
            "bottom": null,
            "display": null,
            "flex": null,
            "flex_flow": null,
            "grid_area": null,
            "grid_auto_columns": null,
            "grid_auto_flow": null,
            "grid_auto_rows": null,
            "grid_column": null,
            "grid_gap": null,
            "grid_row": null,
            "grid_template_areas": null,
            "grid_template_columns": null,
            "grid_template_rows": null,
            "height": null,
            "justify_content": null,
            "justify_items": null,
            "left": null,
            "margin": null,
            "max_height": null,
            "max_width": null,
            "min_height": null,
            "min_width": null,
            "object_fit": null,
            "object_position": null,
            "order": null,
            "overflow": null,
            "overflow_x": null,
            "overflow_y": null,
            "padding": null,
            "right": null,
            "top": null,
            "visibility": null,
            "width": null
          }
        },
        "0d96a3e1d2584ba78984ac18b01fbd55": {
          "model_module": "@jupyter-widgets/base",
          "model_module_version": "1.2.0",
          "model_name": "LayoutModel",
          "state": {
            "_model_module": "@jupyter-widgets/base",
            "_model_module_version": "1.2.0",
            "_model_name": "LayoutModel",
            "_view_count": null,
            "_view_module": "@jupyter-widgets/base",
            "_view_module_version": "1.2.0",
            "_view_name": "LayoutView",
            "align_content": null,
            "align_items": null,
            "align_self": null,
            "border": null,
            "bottom": null,
            "display": null,
            "flex": null,
            "flex_flow": null,
            "grid_area": null,
            "grid_auto_columns": null,
            "grid_auto_flow": null,
            "grid_auto_rows": null,
            "grid_column": null,
            "grid_gap": null,
            "grid_row": null,
            "grid_template_areas": null,
            "grid_template_columns": null,
            "grid_template_rows": null,
            "height": null,
            "justify_content": null,
            "justify_items": null,
            "left": null,
            "margin": null,
            "max_height": null,
            "max_width": null,
            "min_height": null,
            "min_width": null,
            "object_fit": null,
            "object_position": null,
            "order": null,
            "overflow": null,
            "overflow_x": null,
            "overflow_y": null,
            "padding": null,
            "right": null,
            "top": null,
            "visibility": null,
            "width": null
          }
        },
        "103f6afaf76347338f6dd2eafa4b0a20": {
          "model_module": "@jupyter-widgets/base",
          "model_module_version": "1.2.0",
          "model_name": "LayoutModel",
          "state": {
            "_model_module": "@jupyter-widgets/base",
            "_model_module_version": "1.2.0",
            "_model_name": "LayoutModel",
            "_view_count": null,
            "_view_module": "@jupyter-widgets/base",
            "_view_module_version": "1.2.0",
            "_view_name": "LayoutView",
            "align_content": null,
            "align_items": null,
            "align_self": null,
            "border": null,
            "bottom": null,
            "display": null,
            "flex": null,
            "flex_flow": null,
            "grid_area": null,
            "grid_auto_columns": null,
            "grid_auto_flow": null,
            "grid_auto_rows": null,
            "grid_column": null,
            "grid_gap": null,
            "grid_row": null,
            "grid_template_areas": null,
            "grid_template_columns": null,
            "grid_template_rows": null,
            "height": null,
            "justify_content": null,
            "justify_items": null,
            "left": null,
            "margin": null,
            "max_height": null,
            "max_width": null,
            "min_height": null,
            "min_width": null,
            "object_fit": null,
            "object_position": null,
            "order": null,
            "overflow": null,
            "overflow_x": null,
            "overflow_y": null,
            "padding": null,
            "right": null,
            "top": null,
            "visibility": null,
            "width": null
          }
        },
        "183427f4f5544c7a9ec60fc71758f509": {
          "model_module": "@jupyter-widgets/controls",
          "model_module_version": "1.5.0",
          "model_name": "DescriptionStyleModel",
          "state": {
            "_model_module": "@jupyter-widgets/controls",
            "_model_module_version": "1.5.0",
            "_model_name": "DescriptionStyleModel",
            "_view_count": null,
            "_view_module": "@jupyter-widgets/base",
            "_view_module_version": "1.2.0",
            "_view_name": "StyleView",
            "description_width": ""
          }
        },
        "19ad5c3c8b69437f964671eedc26c766": {
          "model_module": "@jupyter-widgets/controls",
          "model_module_version": "1.5.0",
          "model_name": "HBoxModel",
          "state": {
            "_dom_classes": [],
            "_model_module": "@jupyter-widgets/controls",
            "_model_module_version": "1.5.0",
            "_model_name": "HBoxModel",
            "_view_count": null,
            "_view_module": "@jupyter-widgets/controls",
            "_view_module_version": "1.5.0",
            "_view_name": "HBoxView",
            "box_style": "",
            "children": [
              "IPY_MODEL_2fbec96b327249df969977e8c2b89a6a",
              "IPY_MODEL_259d525b2f9e42759c1ab200c7936e15",
              "IPY_MODEL_2e3072104725469e8b4d00eef49a7e08"
            ],
            "layout": "IPY_MODEL_c4e59594f9eb488c9639b1a266035100"
          }
        },
        "259d525b2f9e42759c1ab200c7936e15": {
          "model_module": "@jupyter-widgets/controls",
          "model_module_version": "1.5.0",
          "model_name": "FloatProgressModel",
          "state": {
            "_dom_classes": [],
            "_model_module": "@jupyter-widgets/controls",
            "_model_module_version": "1.5.0",
            "_model_name": "FloatProgressModel",
            "_view_count": null,
            "_view_module": "@jupyter-widgets/controls",
            "_view_module_version": "1.5.0",
            "_view_name": "ProgressView",
            "bar_style": "success",
            "description": "",
            "description_tooltip": null,
            "layout": "IPY_MODEL_275f83895d644a27a63d9fe71bf49a94",
            "max": 483,
            "min": 0,
            "orientation": "horizontal",
            "style": "IPY_MODEL_ff4f2cbe3691453ca88fe9e132d817f6",
            "value": 483
          }
        },
        "275f83895d644a27a63d9fe71bf49a94": {
          "model_module": "@jupyter-widgets/base",
          "model_module_version": "1.2.0",
          "model_name": "LayoutModel",
          "state": {
            "_model_module": "@jupyter-widgets/base",
            "_model_module_version": "1.2.0",
            "_model_name": "LayoutModel",
            "_view_count": null,
            "_view_module": "@jupyter-widgets/base",
            "_view_module_version": "1.2.0",
            "_view_name": "LayoutView",
            "align_content": null,
            "align_items": null,
            "align_self": null,
            "border": null,
            "bottom": null,
            "display": null,
            "flex": null,
            "flex_flow": null,
            "grid_area": null,
            "grid_auto_columns": null,
            "grid_auto_flow": null,
            "grid_auto_rows": null,
            "grid_column": null,
            "grid_gap": null,
            "grid_row": null,
            "grid_template_areas": null,
            "grid_template_columns": null,
            "grid_template_rows": null,
            "height": null,
            "justify_content": null,
            "justify_items": null,
            "left": null,
            "margin": null,
            "max_height": null,
            "max_width": null,
            "min_height": null,
            "min_width": null,
            "object_fit": null,
            "object_position": null,
            "order": null,
            "overflow": null,
            "overflow_x": null,
            "overflow_y": null,
            "padding": null,
            "right": null,
            "top": null,
            "visibility": null,
            "width": null
          }
        },
        "27dd5bbc5c0343efb52ee5f4eac1b608": {
          "model_module": "@jupyter-widgets/base",
          "model_module_version": "1.2.0",
          "model_name": "LayoutModel",
          "state": {
            "_model_module": "@jupyter-widgets/base",
            "_model_module_version": "1.2.0",
            "_model_name": "LayoutModel",
            "_view_count": null,
            "_view_module": "@jupyter-widgets/base",
            "_view_module_version": "1.2.0",
            "_view_name": "LayoutView",
            "align_content": null,
            "align_items": null,
            "align_self": null,
            "border": null,
            "bottom": null,
            "display": null,
            "flex": null,
            "flex_flow": null,
            "grid_area": null,
            "grid_auto_columns": null,
            "grid_auto_flow": null,
            "grid_auto_rows": null,
            "grid_column": null,
            "grid_gap": null,
            "grid_row": null,
            "grid_template_areas": null,
            "grid_template_columns": null,
            "grid_template_rows": null,
            "height": null,
            "justify_content": null,
            "justify_items": null,
            "left": null,
            "margin": null,
            "max_height": null,
            "max_width": null,
            "min_height": null,
            "min_width": null,
            "object_fit": null,
            "object_position": null,
            "order": null,
            "overflow": null,
            "overflow_x": null,
            "overflow_y": null,
            "padding": null,
            "right": null,
            "top": null,
            "visibility": null,
            "width": null
          }
        },
        "2e3072104725469e8b4d00eef49a7e08": {
          "model_module": "@jupyter-widgets/controls",
          "model_module_version": "1.5.0",
          "model_name": "HTMLModel",
          "state": {
            "_dom_classes": [],
            "_model_module": "@jupyter-widgets/controls",
            "_model_module_version": "1.5.0",
            "_model_name": "HTMLModel",
            "_view_count": null,
            "_view_module": "@jupyter-widgets/controls",
            "_view_module_version": "1.5.0",
            "_view_name": "HTMLView",
            "description": "",
            "description_tooltip": null,
            "layout": "IPY_MODEL_b07c19ee3531482791d2b11563f11399",
            "placeholder": "​",
            "style": "IPY_MODEL_a4eb1058929349808ad3621bab98afb3",
            "value": " 483/483 [00:00&lt;00:00, 4.43kB/s]"
          }
        },
        "2ea4d5e461ae49ce88510364fcc8671d": {
          "model_module": "@jupyter-widgets/controls",
          "model_module_version": "1.5.0",
          "model_name": "ProgressStyleModel",
          "state": {
            "_model_module": "@jupyter-widgets/controls",
            "_model_module_version": "1.5.0",
            "_model_name": "ProgressStyleModel",
            "_view_count": null,
            "_view_module": "@jupyter-widgets/base",
            "_view_module_version": "1.2.0",
            "_view_name": "StyleView",
            "bar_color": null,
            "description_width": ""
          }
        },
        "2fbec96b327249df969977e8c2b89a6a": {
          "model_module": "@jupyter-widgets/controls",
          "model_module_version": "1.5.0",
          "model_name": "HTMLModel",
          "state": {
            "_dom_classes": [],
            "_model_module": "@jupyter-widgets/controls",
            "_model_module_version": "1.5.0",
            "_model_name": "HTMLModel",
            "_view_count": null,
            "_view_module": "@jupyter-widgets/controls",
            "_view_module_version": "1.5.0",
            "_view_name": "HTMLView",
            "description": "",
            "description_tooltip": null,
            "layout": "IPY_MODEL_ec93f8024c034a32a652d8e0e9b066f9",
            "placeholder": "​",
            "style": "IPY_MODEL_8546c4a19b1147b8a01c4fb35acbb751",
            "value": "Downloading (…)lve/main/config.json: 100%"
          }
        },
        "341868eb7a1141a09222d312c87e0f0e": {
          "model_module": "@jupyter-widgets/controls",
          "model_module_version": "1.5.0",
          "model_name": "ProgressStyleModel",
          "state": {
            "_model_module": "@jupyter-widgets/controls",
            "_model_module_version": "1.5.0",
            "_model_name": "ProgressStyleModel",
            "_view_count": null,
            "_view_module": "@jupyter-widgets/base",
            "_view_module_version": "1.2.0",
            "_view_name": "StyleView",
            "bar_color": null,
            "description_width": ""
          }
        },
        "3917aba5c2ad4af79d66df60fcdffbad": {
          "model_module": "@jupyter-widgets/base",
          "model_module_version": "1.2.0",
          "model_name": "LayoutModel",
          "state": {
            "_model_module": "@jupyter-widgets/base",
            "_model_module_version": "1.2.0",
            "_model_name": "LayoutModel",
            "_view_count": null,
            "_view_module": "@jupyter-widgets/base",
            "_view_module_version": "1.2.0",
            "_view_name": "LayoutView",
            "align_content": null,
            "align_items": null,
            "align_self": null,
            "border": null,
            "bottom": null,
            "display": null,
            "flex": null,
            "flex_flow": null,
            "grid_area": null,
            "grid_auto_columns": null,
            "grid_auto_flow": null,
            "grid_auto_rows": null,
            "grid_column": null,
            "grid_gap": null,
            "grid_row": null,
            "grid_template_areas": null,
            "grid_template_columns": null,
            "grid_template_rows": null,
            "height": null,
            "justify_content": null,
            "justify_items": null,
            "left": null,
            "margin": null,
            "max_height": null,
            "max_width": null,
            "min_height": null,
            "min_width": null,
            "object_fit": null,
            "object_position": null,
            "order": null,
            "overflow": null,
            "overflow_x": null,
            "overflow_y": null,
            "padding": null,
            "right": null,
            "top": null,
            "visibility": null,
            "width": null
          }
        },
        "460985472b0a412289a5ac02df82df73": {
          "model_module": "@jupyter-widgets/controls",
          "model_module_version": "1.5.0",
          "model_name": "FloatProgressModel",
          "state": {
            "_dom_classes": [],
            "_model_module": "@jupyter-widgets/controls",
            "_model_module_version": "1.5.0",
            "_model_name": "FloatProgressModel",
            "_view_count": null,
            "_view_module": "@jupyter-widgets/controls",
            "_view_module_version": "1.5.0",
            "_view_name": "ProgressView",
            "bar_style": "success",
            "description": "",
            "description_tooltip": null,
            "layout": "IPY_MODEL_d69c62573e844bbe951d63d8fc14fbe8",
            "max": 267967963,
            "min": 0,
            "orientation": "horizontal",
            "style": "IPY_MODEL_907da7c06c5e43fd98015b13ab55bfb9",
            "value": 267967963
          }
        },
        "462d4b90ded84eb693f33fa92c0a3e21": {
          "model_module": "@jupyter-widgets/base",
          "model_module_version": "1.2.0",
          "model_name": "LayoutModel",
          "state": {
            "_model_module": "@jupyter-widgets/base",
            "_model_module_version": "1.2.0",
            "_model_name": "LayoutModel",
            "_view_count": null,
            "_view_module": "@jupyter-widgets/base",
            "_view_module_version": "1.2.0",
            "_view_name": "LayoutView",
            "align_content": null,
            "align_items": null,
            "align_self": null,
            "border": null,
            "bottom": null,
            "display": null,
            "flex": null,
            "flex_flow": null,
            "grid_area": null,
            "grid_auto_columns": null,
            "grid_auto_flow": null,
            "grid_auto_rows": null,
            "grid_column": null,
            "grid_gap": null,
            "grid_row": null,
            "grid_template_areas": null,
            "grid_template_columns": null,
            "grid_template_rows": null,
            "height": null,
            "justify_content": null,
            "justify_items": null,
            "left": null,
            "margin": null,
            "max_height": null,
            "max_width": null,
            "min_height": null,
            "min_width": null,
            "object_fit": null,
            "object_position": null,
            "order": null,
            "overflow": null,
            "overflow_x": null,
            "overflow_y": null,
            "padding": null,
            "right": null,
            "top": null,
            "visibility": null,
            "width": null
          }
        },
        "4a152f5cc15a4981b1ca58da00c132ea": {
          "model_module": "@jupyter-widgets/controls",
          "model_module_version": "1.5.0",
          "model_name": "HBoxModel",
          "state": {
            "_dom_classes": [],
            "_model_module": "@jupyter-widgets/controls",
            "_model_module_version": "1.5.0",
            "_model_name": "HBoxModel",
            "_view_count": null,
            "_view_module": "@jupyter-widgets/controls",
            "_view_module_version": "1.5.0",
            "_view_name": "HBoxView",
            "box_style": "",
            "children": [
              "IPY_MODEL_51ef4986c58041309f0bb1ea40740f75",
              "IPY_MODEL_460985472b0a412289a5ac02df82df73",
              "IPY_MODEL_619e55a214264b1da70133d122741a28"
            ],
            "layout": "IPY_MODEL_c9849e3c02174a7783dd30291bfa2cd1"
          }
        },
        "51ef4986c58041309f0bb1ea40740f75": {
          "model_module": "@jupyter-widgets/controls",
          "model_module_version": "1.5.0",
          "model_name": "HTMLModel",
          "state": {
            "_dom_classes": [],
            "_model_module": "@jupyter-widgets/controls",
            "_model_module_version": "1.5.0",
            "_model_name": "HTMLModel",
            "_view_count": null,
            "_view_module": "@jupyter-widgets/controls",
            "_view_module_version": "1.5.0",
            "_view_name": "HTMLView",
            "description": "",
            "description_tooltip": null,
            "layout": "IPY_MODEL_b8d5f7636e8e445a87f2a1e4e512a393",
            "placeholder": "​",
            "style": "IPY_MODEL_781cbd2c453e45b1859a3d9d1e369fe6",
            "value": "Downloading pytorch_model.bin: 100%"
          }
        },
        "5341a79775ca49208d2a7dc3068105bc": {
          "model_module": "@jupyter-widgets/controls",
          "model_module_version": "1.5.0",
          "model_name": "DescriptionStyleModel",
          "state": {
            "_model_module": "@jupyter-widgets/controls",
            "_model_module_version": "1.5.0",
            "_model_name": "DescriptionStyleModel",
            "_view_count": null,
            "_view_module": "@jupyter-widgets/base",
            "_view_module_version": "1.2.0",
            "_view_name": "StyleView",
            "description_width": ""
          }
        },
        "5e3cf43c44d24ead84b9a34743f02753": {
          "model_module": "@jupyter-widgets/controls",
          "model_module_version": "1.5.0",
          "model_name": "HTMLModel",
          "state": {
            "_dom_classes": [],
            "_model_module": "@jupyter-widgets/controls",
            "_model_module_version": "1.5.0",
            "_model_name": "HTMLModel",
            "_view_count": null,
            "_view_module": "@jupyter-widgets/controls",
            "_view_module_version": "1.5.0",
            "_view_name": "HTMLView",
            "description": "",
            "description_tooltip": null,
            "layout": "IPY_MODEL_699fb83a5f9444b9876121d21273123d",
            "placeholder": "​",
            "style": "IPY_MODEL_183427f4f5544c7a9ec60fc71758f509",
            "value": "Downloading (…)solve/main/vocab.txt: 100%"
          }
        },
        "619e55a214264b1da70133d122741a28": {
          "model_module": "@jupyter-widgets/controls",
          "model_module_version": "1.5.0",
          "model_name": "HTMLModel",
          "state": {
            "_dom_classes": [],
            "_model_module": "@jupyter-widgets/controls",
            "_model_module_version": "1.5.0",
            "_model_name": "HTMLModel",
            "_view_count": null,
            "_view_module": "@jupyter-widgets/controls",
            "_view_module_version": "1.5.0",
            "_view_name": "HTMLView",
            "description": "",
            "description_tooltip": null,
            "layout": "IPY_MODEL_03962c30db224ea0b8d64944e94fea18",
            "placeholder": "​",
            "style": "IPY_MODEL_d25ac542cc3d4d38bd692f79a9e6662c",
            "value": " 268M/268M [00:03&lt;00:00, 75.5MB/s]"
          }
        },
        "67dbf387b5d34ac28e7de1abac0a9e01": {
          "model_module": "@jupyter-widgets/controls",
          "model_module_version": "1.5.0",
          "model_name": "HTMLModel",
          "state": {
            "_dom_classes": [],
            "_model_module": "@jupyter-widgets/controls",
            "_model_module_version": "1.5.0",
            "_model_name": "HTMLModel",
            "_view_count": null,
            "_view_module": "@jupyter-widgets/controls",
            "_view_module_version": "1.5.0",
            "_view_name": "HTMLView",
            "description": "",
            "description_tooltip": null,
            "layout": "IPY_MODEL_873b0056367c4fe9be0248069a117d5d",
            "placeholder": "​",
            "style": "IPY_MODEL_8435030aac224972aedac93ac0c612bd",
            "value": " 28.0/28.0 [00:00&lt;00:00, 319B/s]"
          }
        },
        "699fb83a5f9444b9876121d21273123d": {
          "model_module": "@jupyter-widgets/base",
          "model_module_version": "1.2.0",
          "model_name": "LayoutModel",
          "state": {
            "_model_module": "@jupyter-widgets/base",
            "_model_module_version": "1.2.0",
            "_model_name": "LayoutModel",
            "_view_count": null,
            "_view_module": "@jupyter-widgets/base",
            "_view_module_version": "1.2.0",
            "_view_name": "LayoutView",
            "align_content": null,
            "align_items": null,
            "align_self": null,
            "border": null,
            "bottom": null,
            "display": null,
            "flex": null,
            "flex_flow": null,
            "grid_area": null,
            "grid_auto_columns": null,
            "grid_auto_flow": null,
            "grid_auto_rows": null,
            "grid_column": null,
            "grid_gap": null,
            "grid_row": null,
            "grid_template_areas": null,
            "grid_template_columns": null,
            "grid_template_rows": null,
            "height": null,
            "justify_content": null,
            "justify_items": null,
            "left": null,
            "margin": null,
            "max_height": null,
            "max_width": null,
            "min_height": null,
            "min_width": null,
            "object_fit": null,
            "object_position": null,
            "order": null,
            "overflow": null,
            "overflow_x": null,
            "overflow_y": null,
            "padding": null,
            "right": null,
            "top": null,
            "visibility": null,
            "width": null
          }
        },
        "72e82dda7eaf40fbad75f28b88152b69": {
          "model_module": "@jupyter-widgets/controls",
          "model_module_version": "1.5.0",
          "model_name": "FloatProgressModel",
          "state": {
            "_dom_classes": [],
            "_model_module": "@jupyter-widgets/controls",
            "_model_module_version": "1.5.0",
            "_model_name": "FloatProgressModel",
            "_view_count": null,
            "_view_module": "@jupyter-widgets/controls",
            "_view_module_version": "1.5.0",
            "_view_name": "ProgressView",
            "bar_style": "success",
            "description": "",
            "description_tooltip": null,
            "layout": "IPY_MODEL_3917aba5c2ad4af79d66df60fcdffbad",
            "max": 28,
            "min": 0,
            "orientation": "horizontal",
            "style": "IPY_MODEL_341868eb7a1141a09222d312c87e0f0e",
            "value": 28
          }
        },
        "781cbd2c453e45b1859a3d9d1e369fe6": {
          "model_module": "@jupyter-widgets/controls",
          "model_module_version": "1.5.0",
          "model_name": "DescriptionStyleModel",
          "state": {
            "_model_module": "@jupyter-widgets/controls",
            "_model_module_version": "1.5.0",
            "_model_name": "DescriptionStyleModel",
            "_view_count": null,
            "_view_module": "@jupyter-widgets/base",
            "_view_module_version": "1.2.0",
            "_view_name": "StyleView",
            "description_width": ""
          }
        },
        "8435030aac224972aedac93ac0c612bd": {
          "model_module": "@jupyter-widgets/controls",
          "model_module_version": "1.5.0",
          "model_name": "DescriptionStyleModel",
          "state": {
            "_model_module": "@jupyter-widgets/controls",
            "_model_module_version": "1.5.0",
            "_model_name": "DescriptionStyleModel",
            "_view_count": null,
            "_view_module": "@jupyter-widgets/base",
            "_view_module_version": "1.2.0",
            "_view_name": "StyleView",
            "description_width": ""
          }
        },
        "8546c4a19b1147b8a01c4fb35acbb751": {
          "model_module": "@jupyter-widgets/controls",
          "model_module_version": "1.5.0",
          "model_name": "DescriptionStyleModel",
          "state": {
            "_model_module": "@jupyter-widgets/controls",
            "_model_module_version": "1.5.0",
            "_model_name": "DescriptionStyleModel",
            "_view_count": null,
            "_view_module": "@jupyter-widgets/base",
            "_view_module_version": "1.2.0",
            "_view_name": "StyleView",
            "description_width": ""
          }
        },
        "873b0056367c4fe9be0248069a117d5d": {
          "model_module": "@jupyter-widgets/base",
          "model_module_version": "1.2.0",
          "model_name": "LayoutModel",
          "state": {
            "_model_module": "@jupyter-widgets/base",
            "_model_module_version": "1.2.0",
            "_model_name": "LayoutModel",
            "_view_count": null,
            "_view_module": "@jupyter-widgets/base",
            "_view_module_version": "1.2.0",
            "_view_name": "LayoutView",
            "align_content": null,
            "align_items": null,
            "align_self": null,
            "border": null,
            "bottom": null,
            "display": null,
            "flex": null,
            "flex_flow": null,
            "grid_area": null,
            "grid_auto_columns": null,
            "grid_auto_flow": null,
            "grid_auto_rows": null,
            "grid_column": null,
            "grid_gap": null,
            "grid_row": null,
            "grid_template_areas": null,
            "grid_template_columns": null,
            "grid_template_rows": null,
            "height": null,
            "justify_content": null,
            "justify_items": null,
            "left": null,
            "margin": null,
            "max_height": null,
            "max_width": null,
            "min_height": null,
            "min_width": null,
            "object_fit": null,
            "object_position": null,
            "order": null,
            "overflow": null,
            "overflow_x": null,
            "overflow_y": null,
            "padding": null,
            "right": null,
            "top": null,
            "visibility": null,
            "width": null
          }
        },
        "907da7c06c5e43fd98015b13ab55bfb9": {
          "model_module": "@jupyter-widgets/controls",
          "model_module_version": "1.5.0",
          "model_name": "ProgressStyleModel",
          "state": {
            "_model_module": "@jupyter-widgets/controls",
            "_model_module_version": "1.5.0",
            "_model_name": "ProgressStyleModel",
            "_view_count": null,
            "_view_module": "@jupyter-widgets/base",
            "_view_module_version": "1.2.0",
            "_view_name": "StyleView",
            "bar_color": null,
            "description_width": ""
          }
        },
        "a4eb1058929349808ad3621bab98afb3": {
          "model_module": "@jupyter-widgets/controls",
          "model_module_version": "1.5.0",
          "model_name": "DescriptionStyleModel",
          "state": {
            "_model_module": "@jupyter-widgets/controls",
            "_model_module_version": "1.5.0",
            "_model_name": "DescriptionStyleModel",
            "_view_count": null,
            "_view_module": "@jupyter-widgets/base",
            "_view_module_version": "1.2.0",
            "_view_name": "StyleView",
            "description_width": ""
          }
        },
        "b07c19ee3531482791d2b11563f11399": {
          "model_module": "@jupyter-widgets/base",
          "model_module_version": "1.2.0",
          "model_name": "LayoutModel",
          "state": {
            "_model_module": "@jupyter-widgets/base",
            "_model_module_version": "1.2.0",
            "_model_name": "LayoutModel",
            "_view_count": null,
            "_view_module": "@jupyter-widgets/base",
            "_view_module_version": "1.2.0",
            "_view_name": "LayoutView",
            "align_content": null,
            "align_items": null,
            "align_self": null,
            "border": null,
            "bottom": null,
            "display": null,
            "flex": null,
            "flex_flow": null,
            "grid_area": null,
            "grid_auto_columns": null,
            "grid_auto_flow": null,
            "grid_auto_rows": null,
            "grid_column": null,
            "grid_gap": null,
            "grid_row": null,
            "grid_template_areas": null,
            "grid_template_columns": null,
            "grid_template_rows": null,
            "height": null,
            "justify_content": null,
            "justify_items": null,
            "left": null,
            "margin": null,
            "max_height": null,
            "max_width": null,
            "min_height": null,
            "min_width": null,
            "object_fit": null,
            "object_position": null,
            "order": null,
            "overflow": null,
            "overflow_x": null,
            "overflow_y": null,
            "padding": null,
            "right": null,
            "top": null,
            "visibility": null,
            "width": null
          }
        },
        "b8d5f7636e8e445a87f2a1e4e512a393": {
          "model_module": "@jupyter-widgets/base",
          "model_module_version": "1.2.0",
          "model_name": "LayoutModel",
          "state": {
            "_model_module": "@jupyter-widgets/base",
            "_model_module_version": "1.2.0",
            "_model_name": "LayoutModel",
            "_view_count": null,
            "_view_module": "@jupyter-widgets/base",
            "_view_module_version": "1.2.0",
            "_view_name": "LayoutView",
            "align_content": null,
            "align_items": null,
            "align_self": null,
            "border": null,
            "bottom": null,
            "display": null,
            "flex": null,
            "flex_flow": null,
            "grid_area": null,
            "grid_auto_columns": null,
            "grid_auto_flow": null,
            "grid_auto_rows": null,
            "grid_column": null,
            "grid_gap": null,
            "grid_row": null,
            "grid_template_areas": null,
            "grid_template_columns": null,
            "grid_template_rows": null,
            "height": null,
            "justify_content": null,
            "justify_items": null,
            "left": null,
            "margin": null,
            "max_height": null,
            "max_width": null,
            "min_height": null,
            "min_width": null,
            "object_fit": null,
            "object_position": null,
            "order": null,
            "overflow": null,
            "overflow_x": null,
            "overflow_y": null,
            "padding": null,
            "right": null,
            "top": null,
            "visibility": null,
            "width": null
          }
        },
        "baf0f97ea8e34c14a1970eb7584da9bb": {
          "model_module": "@jupyter-widgets/controls",
          "model_module_version": "1.5.0",
          "model_name": "DescriptionStyleModel",
          "state": {
            "_model_module": "@jupyter-widgets/controls",
            "_model_module_version": "1.5.0",
            "_model_name": "DescriptionStyleModel",
            "_view_count": null,
            "_view_module": "@jupyter-widgets/base",
            "_view_module_version": "1.2.0",
            "_view_name": "StyleView",
            "description_width": ""
          }
        },
        "baff28816bb6485f9687a5a1a1f64db3": {
          "model_module": "@jupyter-widgets/controls",
          "model_module_version": "1.5.0",
          "model_name": "HBoxModel",
          "state": {
            "_dom_classes": [],
            "_model_module": "@jupyter-widgets/controls",
            "_model_module_version": "1.5.0",
            "_model_name": "HBoxModel",
            "_view_count": null,
            "_view_module": "@jupyter-widgets/controls",
            "_view_module_version": "1.5.0",
            "_view_name": "HBoxView",
            "box_style": "",
            "children": [
              "IPY_MODEL_5e3cf43c44d24ead84b9a34743f02753",
              "IPY_MODEL_05d6e7c5899942f395009593ea4db381",
              "IPY_MODEL_00cf6b473f3345b1b238d2c74dd82964"
            ],
            "layout": "IPY_MODEL_462d4b90ded84eb693f33fa92c0a3e21"
          }
        },
        "c4e59594f9eb488c9639b1a266035100": {
          "model_module": "@jupyter-widgets/base",
          "model_module_version": "1.2.0",
          "model_name": "LayoutModel",
          "state": {
            "_model_module": "@jupyter-widgets/base",
            "_model_module_version": "1.2.0",
            "_model_name": "LayoutModel",
            "_view_count": null,
            "_view_module": "@jupyter-widgets/base",
            "_view_module_version": "1.2.0",
            "_view_name": "LayoutView",
            "align_content": null,
            "align_items": null,
            "align_self": null,
            "border": null,
            "bottom": null,
            "display": null,
            "flex": null,
            "flex_flow": null,
            "grid_area": null,
            "grid_auto_columns": null,
            "grid_auto_flow": null,
            "grid_auto_rows": null,
            "grid_column": null,
            "grid_gap": null,
            "grid_row": null,
            "grid_template_areas": null,
            "grid_template_columns": null,
            "grid_template_rows": null,
            "height": null,
            "justify_content": null,
            "justify_items": null,
            "left": null,
            "margin": null,
            "max_height": null,
            "max_width": null,
            "min_height": null,
            "min_width": null,
            "object_fit": null,
            "object_position": null,
            "order": null,
            "overflow": null,
            "overflow_x": null,
            "overflow_y": null,
            "padding": null,
            "right": null,
            "top": null,
            "visibility": null,
            "width": null
          }
        },
        "c9849e3c02174a7783dd30291bfa2cd1": {
          "model_module": "@jupyter-widgets/base",
          "model_module_version": "1.2.0",
          "model_name": "LayoutModel",
          "state": {
            "_model_module": "@jupyter-widgets/base",
            "_model_module_version": "1.2.0",
            "_model_name": "LayoutModel",
            "_view_count": null,
            "_view_module": "@jupyter-widgets/base",
            "_view_module_version": "1.2.0",
            "_view_name": "LayoutView",
            "align_content": null,
            "align_items": null,
            "align_self": null,
            "border": null,
            "bottom": null,
            "display": null,
            "flex": null,
            "flex_flow": null,
            "grid_area": null,
            "grid_auto_columns": null,
            "grid_auto_flow": null,
            "grid_auto_rows": null,
            "grid_column": null,
            "grid_gap": null,
            "grid_row": null,
            "grid_template_areas": null,
            "grid_template_columns": null,
            "grid_template_rows": null,
            "height": null,
            "justify_content": null,
            "justify_items": null,
            "left": null,
            "margin": null,
            "max_height": null,
            "max_width": null,
            "min_height": null,
            "min_width": null,
            "object_fit": null,
            "object_position": null,
            "order": null,
            "overflow": null,
            "overflow_x": null,
            "overflow_y": null,
            "padding": null,
            "right": null,
            "top": null,
            "visibility": null,
            "width": null
          }
        },
        "d25ac542cc3d4d38bd692f79a9e6662c": {
          "model_module": "@jupyter-widgets/controls",
          "model_module_version": "1.5.0",
          "model_name": "DescriptionStyleModel",
          "state": {
            "_model_module": "@jupyter-widgets/controls",
            "_model_module_version": "1.5.0",
            "_model_name": "DescriptionStyleModel",
            "_view_count": null,
            "_view_module": "@jupyter-widgets/base",
            "_view_module_version": "1.2.0",
            "_view_name": "StyleView",
            "description_width": ""
          }
        },
        "d69c62573e844bbe951d63d8fc14fbe8": {
          "model_module": "@jupyter-widgets/base",
          "model_module_version": "1.2.0",
          "model_name": "LayoutModel",
          "state": {
            "_model_module": "@jupyter-widgets/base",
            "_model_module_version": "1.2.0",
            "_model_name": "LayoutModel",
            "_view_count": null,
            "_view_module": "@jupyter-widgets/base",
            "_view_module_version": "1.2.0",
            "_view_name": "LayoutView",
            "align_content": null,
            "align_items": null,
            "align_self": null,
            "border": null,
            "bottom": null,
            "display": null,
            "flex": null,
            "flex_flow": null,
            "grid_area": null,
            "grid_auto_columns": null,
            "grid_auto_flow": null,
            "grid_auto_rows": null,
            "grid_column": null,
            "grid_gap": null,
            "grid_row": null,
            "grid_template_areas": null,
            "grid_template_columns": null,
            "grid_template_rows": null,
            "height": null,
            "justify_content": null,
            "justify_items": null,
            "left": null,
            "margin": null,
            "max_height": null,
            "max_width": null,
            "min_height": null,
            "min_width": null,
            "object_fit": null,
            "object_position": null,
            "order": null,
            "overflow": null,
            "overflow_x": null,
            "overflow_y": null,
            "padding": null,
            "right": null,
            "top": null,
            "visibility": null,
            "width": null
          }
        },
        "e28a9c2bd6f54e1bb68e29fe03f4e56a": {
          "model_module": "@jupyter-widgets/controls",
          "model_module_version": "1.5.0",
          "model_name": "HTMLModel",
          "state": {
            "_dom_classes": [],
            "_model_module": "@jupyter-widgets/controls",
            "_model_module_version": "1.5.0",
            "_model_name": "HTMLModel",
            "_view_count": null,
            "_view_module": "@jupyter-widgets/controls",
            "_view_module_version": "1.5.0",
            "_view_name": "HTMLView",
            "description": "",
            "description_tooltip": null,
            "layout": "IPY_MODEL_27dd5bbc5c0343efb52ee5f4eac1b608",
            "placeholder": "​",
            "style": "IPY_MODEL_5341a79775ca49208d2a7dc3068105bc",
            "value": "Downloading (…)okenizer_config.json: 100%"
          }
        },
        "ec93f8024c034a32a652d8e0e9b066f9": {
          "model_module": "@jupyter-widgets/base",
          "model_module_version": "1.2.0",
          "model_name": "LayoutModel",
          "state": {
            "_model_module": "@jupyter-widgets/base",
            "_model_module_version": "1.2.0",
            "_model_name": "LayoutModel",
            "_view_count": null,
            "_view_module": "@jupyter-widgets/base",
            "_view_module_version": "1.2.0",
            "_view_name": "LayoutView",
            "align_content": null,
            "align_items": null,
            "align_self": null,
            "border": null,
            "bottom": null,
            "display": null,
            "flex": null,
            "flex_flow": null,
            "grid_area": null,
            "grid_auto_columns": null,
            "grid_auto_flow": null,
            "grid_auto_rows": null,
            "grid_column": null,
            "grid_gap": null,
            "grid_row": null,
            "grid_template_areas": null,
            "grid_template_columns": null,
            "grid_template_rows": null,
            "height": null,
            "justify_content": null,
            "justify_items": null,
            "left": null,
            "margin": null,
            "max_height": null,
            "max_width": null,
            "min_height": null,
            "min_width": null,
            "object_fit": null,
            "object_position": null,
            "order": null,
            "overflow": null,
            "overflow_x": null,
            "overflow_y": null,
            "padding": null,
            "right": null,
            "top": null,
            "visibility": null,
            "width": null
          }
        },
        "f735a31ea0324b39bab83dcaaa74f930": {
          "model_module": "@jupyter-widgets/controls",
          "model_module_version": "1.5.0",
          "model_name": "HBoxModel",
          "state": {
            "_dom_classes": [],
            "_model_module": "@jupyter-widgets/controls",
            "_model_module_version": "1.5.0",
            "_model_name": "HBoxModel",
            "_view_count": null,
            "_view_module": "@jupyter-widgets/controls",
            "_view_module_version": "1.5.0",
            "_view_name": "HBoxView",
            "box_style": "",
            "children": [
              "IPY_MODEL_e28a9c2bd6f54e1bb68e29fe03f4e56a",
              "IPY_MODEL_72e82dda7eaf40fbad75f28b88152b69",
              "IPY_MODEL_67dbf387b5d34ac28e7de1abac0a9e01"
            ],
            "layout": "IPY_MODEL_0d96a3e1d2584ba78984ac18b01fbd55"
          }
        },
        "ff4f2cbe3691453ca88fe9e132d817f6": {
          "model_module": "@jupyter-widgets/controls",
          "model_module_version": "1.5.0",
          "model_name": "ProgressStyleModel",
          "state": {
            "_model_module": "@jupyter-widgets/controls",
            "_model_module_version": "1.5.0",
            "_model_name": "ProgressStyleModel",
            "_view_count": null,
            "_view_module": "@jupyter-widgets/base",
            "_view_module_version": "1.2.0",
            "_view_name": "StyleView",
            "bar_color": null,
            "description_width": ""
          }
        }
      }
    }
  },
  "nbformat": 4,
  "nbformat_minor": 0
}